{
 "cells": [
  {
   "cell_type": "raw",
   "id": "90adc4ad-dcea-45f4-a5f8-737fd02cf585",
   "metadata": {},
   "source": [
    "---\n",
    "title: \"Predicting customer behaviour using scikit learn\"\n",
    "author: Anurag Patil\n",
    "format:\n",
    "  html:\n",
    "    code-fold: true\n",
    "    theme: morph\n",
    "toc: true\n",
    "jupyter: data_science\n",
    "---"
   ]
  },
  {
   "cell_type": "markdown",
   "id": "a13ccc26-121b-4aff-8692-6f8023cf3df5",
   "metadata": {},
   "source": [
    "- This is a revamped version of the original case study that I worked on for DataCamp's **\"Data Scientist Associate certification\".**\n",
    "- The dataset as well as the problem scenario was provided by DataCamp. \n",
    "- In this report I will be working on a fictitious business scenario, dealing with a customer behaviour classification problem. \n",
    "- I will clean the data, validate it, do some visual insepction of the data and then work on modelling it. \n",
    "\n",
    "---\n",
    "\n",
    "## 1. Let's explore the scenario\n",
    "\n",
    "- GoalZone is a fitness club chain in Canada.\n",
    "- GoalZone offers a range of fitness classes in two capacities - 25 and 15.\n",
    "- Some classes are always fully booked. Fully booked classes often have a low attendance rate.\n",
    "- GoalZone wants to increase the number of spaces available for classes.\n",
    "- They want to do this by predicting whether the member will attend the class or not.\n",
    "- If they can predict a member will not attend the class, they can make another space\n",
    "  available.\n",
    "  \n",
    "---\n",
    "\n",
    "## 2. How much data and what kind features do we have? Let's see! \n"
   ]
  },
  {
   "cell_type": "code",
   "execution_count": 10,
   "id": "4ebe1cad-6b43-49d3-a1dc-11ef5d54a024",
   "metadata": {
    "tags": []
   },
   "outputs": [
    {
     "ename": "NameError",
     "evalue": "name 'urllib' is not defined",
     "output_type": "error",
     "traceback": [
      "\u001b[1;31m---------------------------------------------------------------------------\u001b[0m",
      "\u001b[1;31mNameError\u001b[0m                                 Traceback (most recent call last)",
      "Cell \u001b[1;32mIn[10], line 12\u001b[0m\n\u001b[0;32m      9\u001b[0m \u001b[38;5;66;03m# let's get the data\u001b[39;00m\n\u001b[0;32m     10\u001b[0m url \u001b[38;5;241m=\u001b[39m \u001b[38;5;124m\"\u001b[39m\u001b[38;5;124mhttps://s3.amazonaws.com/talent-assets.datacamp.com/fitness_class_2212.csv\u001b[39m\u001b[38;5;124m\"\u001b[39m\n\u001b[1;32m---> 12\u001b[0m data \u001b[38;5;241m=\u001b[39m \u001b[43mread_data\u001b[49m\u001b[43m(\u001b[49m\u001b[43murl\u001b[49m\u001b[38;5;241;43m=\u001b[39;49m\u001b[43murl\u001b[49m\u001b[43m,\u001b[49m\u001b[43m \u001b[49m\u001b[43mfilename\u001b[49m\u001b[38;5;241;43m=\u001b[39;49m\u001b[38;5;124;43m\"\u001b[39;49m\u001b[38;5;124;43mfitness_class_2212.csv\u001b[39;49m\u001b[38;5;124;43m\"\u001b[39;49m\u001b[43m)\u001b[49m\n\u001b[0;32m     13\u001b[0m data\u001b[38;5;241m.\u001b[39mhead()\n",
      "File \u001b[1;32m~\\Documents\\Projects\\GoalZone study\\utils\\functions.py:18\u001b[0m, in \u001b[0;36mread_data\u001b[1;34m(url, filename)\u001b[0m\n\u001b[0;32m     12\u001b[0m \u001b[38;5;28;01mdef\u001b[39;00m \u001b[38;5;21mread_data\u001b[39m(url, filename):\n\u001b[0;32m     13\u001b[0m \u001b[38;5;250m    \u001b[39m\u001b[38;5;124;03m'''\u001b[39;00m\n\u001b[0;32m     14\u001b[0m \u001b[38;5;124;03m    This function takes a csv file url and the file name of \u001b[39;00m\n\u001b[0;32m     15\u001b[0m \u001b[38;5;124;03m    the file to be retrieved\u001b[39;00m\n\u001b[0;32m     16\u001b[0m \u001b[38;5;124;03m    returns a pandas DataFrame of the csv\u001b[39;00m\n\u001b[0;32m     17\u001b[0m \u001b[38;5;124;03m    '''\u001b[39;00m\n\u001b[1;32m---> 18\u001b[0m     \u001b[43murllib\u001b[49m\u001b[38;5;241m.\u001b[39mrequest\u001b[38;5;241m.\u001b[39murlretrieve(url, filename \u001b[38;5;241m=\u001b[39m filename)\n\u001b[0;32m     19\u001b[0m     \u001b[38;5;28;01mreturn\u001b[39;00m pd\u001b[38;5;241m.\u001b[39mread_csv(filename)\n",
      "\u001b[1;31mNameError\u001b[0m: name 'urllib' is not defined"
     ]
    }
   ],
   "source": [
    "# Importing the necessary modules\n",
    "import numpy as np\n",
    "import pandas as pd\n",
    "import matplotlib.pyplot as plt\n",
    "import seaborn as sns\n",
    "import urllib\n",
    "plt.style.use(\"seaborn-v0_8-darkgrid\")\n",
    "from utils import read_data\n",
    "\n",
    "# let's get the data\n",
    "url = \"https://s3.amazonaws.com/talent-assets.datacamp.com/fitness_class_2212.csv\"\n",
    "\n",
    "data = read_data(url=url, filename=\"fitness_class_2212.csv\")\n",
    "data.head()"
   ]
  },
  {
   "cell_type": "code",
   "execution_count": null,
   "id": "5ac371cd-c57a-4e4f-88fd-732a8d5db544",
   "metadata": {},
   "outputs": [],
   "source": []
  }
 ],
 "metadata": {
  "kernelspec": {
   "display_name": "data_science",
   "language": "python",
   "name": "data_science"
  },
  "language_info": {
   "codemirror_mode": {
    "name": "ipython",
    "version": 3
   },
   "file_extension": ".py",
   "mimetype": "text/x-python",
   "name": "python",
   "nbconvert_exporter": "python",
   "pygments_lexer": "ipython3",
   "version": "3.11.2"
  }
 },
 "nbformat": 4,
 "nbformat_minor": 5
}
